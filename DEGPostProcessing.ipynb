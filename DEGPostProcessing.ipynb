{
 "cells": [
  {
   "cell_type": "code",
   "execution_count": 28,
   "id": "6135199f",
   "metadata": {
    "scrolled": true
   },
   "outputs": [],
   "source": [
    "import os\n",
    "import csv\n",
    "import pandas as pd\n",
    "import numpy as np\n",
    "from tkinter import Tk     # from tkinter import Tk for Python 3.x\n",
    "from tkinter.filedialog import askopenfilename\n",
    "#Tk().withdraw() # we don't want a full GUI, so keep the root window from appearing"
   ]
  },
  {
   "cell_type": "code",
   "execution_count": 29,
   "id": "531e79c6",
   "metadata": {},
   "outputs": [],
   "source": [
    "filename = askopenfilename() # show an \"Open\" dialog box and return the path to the selected file"
   ]
  },
  {
   "cell_type": "code",
   "execution_count": 30,
   "id": "9d485538",
   "metadata": {},
   "outputs": [],
   "source": [
    "# reading csv file using file chooser dialogue\n",
    "file_path, base_file_name = os.path.split(filename)\n",
    "file_name, file_extension = os.path.splitext(base_file_name)\n",
    "df = pd.read_csv(filename, index_col='#symbol')"
   ]
  },
  {
   "cell_type": "code",
   "execution_count": 31,
   "id": "4f71ba39",
   "metadata": {},
   "outputs": [],
   "source": [
    "#Data filtering based on Absolute logFC >= 1 and adjusted p value < 0.005\n",
    "filtered = df.loc[(abs(df[\"logFC\"]) >= 1) & (df[\"adj.p\"] < 0.005)]"
   ]
  },
  {
   "cell_type": "code",
   "execution_count": 32,
   "id": "ba7681ce",
   "metadata": {},
   "outputs": [],
   "source": [
    "#Separating up and down regulated genes\n",
    "upregulated = filtered.loc[filtered[\"logFC\"] > 0]\n",
    "downregulated = filtered.loc[filtered[\"logFC\"] < 0]\n",
    "up = pd.DataFrame(upregulated.index.values, columns = ['Up'])\n",
    "down = pd.DataFrame(downregulated.index.values, columns = ['Down'])"
   ]
  },
  {
   "cell_type": "code",
   "execution_count": 33,
   "id": "3a2377ab",
   "metadata": {},
   "outputs": [],
   "source": [
    "#Combining both Up and down regulated genes into a DataFrame\n",
    "AllGenes = pd.concat([up,down])\n",
    "AllGenes[\"Up\"] = AllGenes[\"Up\"].sort_values(ascending = True).values\n",
    "AllGenes[\"Down\"] = AllGenes[\"Down\"].sort_values(ascending = True).values"
   ]
  },
  {
   "cell_type": "code",
   "execution_count": 34,
   "id": "51c9c478",
   "metadata": {},
   "outputs": [],
   "source": [
    "#Remove Unnecessary column and rows with nan values\n",
    "AllGenes = AllGenes.reset_index()\n",
    "AllGenes = AllGenes.drop(columns = [\"index\"])\n",
    "if down.size < up.size :\n",
    "    AllGenes.dropna(subset = [\"Up\"], inplace = True)\n",
    "else :\n",
    "    AllGenes.dropna(subset = [\"Down\"], inplace = True)"
   ]
  },
  {
   "cell_type": "code",
   "execution_count": 35,
   "id": "f0e148dc",
   "metadata": {},
   "outputs": [],
   "source": [
    "#Writing to a csv file\n",
    "AllGenes.to_csv(file_name + \"Filtered\" + file_extension)"
   ]
  },
  {
   "cell_type": "code",
   "execution_count": null,
   "id": "bf8201f1",
   "metadata": {},
   "outputs": [],
   "source": []
  }
 ],
 "metadata": {
  "kernelspec": {
   "display_name": "Python 3",
   "language": "python",
   "name": "python3"
  },
  "language_info": {
   "codemirror_mode": {
    "name": "ipython",
    "version": 3
   },
   "file_extension": ".py",
   "mimetype": "text/x-python",
   "name": "python",
   "nbconvert_exporter": "python",
   "pygments_lexer": "ipython3",
   "version": "3.8.8"
  }
 },
 "nbformat": 4,
 "nbformat_minor": 5
}
